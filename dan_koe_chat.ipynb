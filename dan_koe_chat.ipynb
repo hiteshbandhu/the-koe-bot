{
  "nbformat": 4,
  "nbformat_minor": 0,
  "metadata": {
    "colab": {
      "provenance": [],
      "gpuType": "T4",
      "authorship_tag": "ABX9TyPefuV/V4Yj8NVXjfQFM1te",
      "include_colab_link": true
    },
    "kernelspec": {
      "name": "python3",
      "display_name": "Python 3"
    },
    "language_info": {
      "name": "python"
    },
    "accelerator": "GPU"
  },
  "cells": [
    {
      "cell_type": "markdown",
      "metadata": {
        "id": "view-in-github",
        "colab_type": "text"
      },
      "source": [
        "<a href=\"https://colab.research.google.com/github/hiteshbandhu/the-koe-bot/blob/master/dan_koe_chat.ipynb\" target=\"_parent\"><img src=\"https://colab.research.google.com/assets/colab-badge.svg\" alt=\"Open In Colab\"/></a>"
      ]
    },
    {
      "cell_type": "markdown",
      "source": [
        "## saving the content file github\n"
      ],
      "metadata": {
        "id": "qzvGZ885DOSN"
      }
    },
    {
      "cell_type": "code",
      "execution_count": 4,
      "metadata": {
        "colab": {
          "base_uri": "https://localhost:8080/"
        },
        "id": "eRe-xnzR-CDS",
        "outputId": "082edde2-50b0-4526-e886-05cb0b09f66e"
      },
      "outputs": [
        {
          "output_type": "stream",
          "name": "stdout",
          "text": [
            "--2024-05-31 05:13:53--  https://raw.githubusercontent.com/hiteshbandhu/the-koe-bot/master/scraped/content.json\n",
            "Resolving raw.githubusercontent.com (raw.githubusercontent.com)... 185.199.109.133, 185.199.110.133, 185.199.108.133, ...\n",
            "Connecting to raw.githubusercontent.com (raw.githubusercontent.com)|185.199.109.133|:443... connected.\n",
            "HTTP request sent, awaiting response... 200 OK\n",
            "Length: 1786807 (1.7M) [text/plain]\n",
            "Saving to: ‘content.json’\n",
            "\n",
            "content.json        100%[===================>]   1.70M  --.-KB/s    in 0.07s   \n",
            "\n",
            "2024-05-31 05:13:53 (22.8 MB/s) - ‘content.json’ saved [1786807/1786807]\n",
            "\n"
          ]
        }
      ],
      "source": [
        "!wget -O content.json https://raw.githubusercontent.com/hiteshbandhu/the-koe-bot/master/scraped/content.json\n"
      ]
    },
    {
      "cell_type": "code",
      "source": [
        "!pip install langchain langchain-community jq"
      ],
      "metadata": {
        "colab": {
          "base_uri": "https://localhost:8080/"
        },
        "id": "ui_-hNlZCNCZ",
        "outputId": "ccbebdb1-4003-43b8-f1d8-b8eab52413b3"
      },
      "execution_count": 1,
      "outputs": [
        {
          "output_type": "stream",
          "name": "stdout",
          "text": [
            "Collecting langchain\n",
            "  Downloading langchain-0.2.1-py3-none-any.whl (973 kB)\n",
            "\u001b[2K     \u001b[90m━━━━━━━━━━━━━━━━━━━━━━━━━━━━━━━━━━━━━━━━\u001b[0m \u001b[32m973.5/973.5 kB\u001b[0m \u001b[31m5.2 MB/s\u001b[0m eta \u001b[36m0:00:00\u001b[0m\n",
            "\u001b[?25hCollecting langchain-community\n",
            "  Downloading langchain_community-0.2.1-py3-none-any.whl (2.1 MB)\n",
            "\u001b[2K     \u001b[90m━━━━━━━━━━━━━━━━━━━━━━━━━━━━━━━━━━━━━━━━\u001b[0m \u001b[32m2.1/2.1 MB\u001b[0m \u001b[31m37.0 MB/s\u001b[0m eta \u001b[36m0:00:00\u001b[0m\n",
            "\u001b[?25hCollecting jq\n",
            "  Downloading jq-1.7.0-cp310-cp310-manylinux_2_17_x86_64.manylinux2014_x86_64.whl (657 kB)\n",
            "\u001b[2K     \u001b[90m━━━━━━━━━━━━━━━━━━━━━━━━━━━━━━━━━━━━━━━━\u001b[0m \u001b[32m657.6/657.6 kB\u001b[0m \u001b[31m56.8 MB/s\u001b[0m eta \u001b[36m0:00:00\u001b[0m\n",
            "\u001b[?25hRequirement already satisfied: PyYAML>=5.3 in /usr/local/lib/python3.10/dist-packages (from langchain) (6.0.1)\n",
            "Requirement already satisfied: SQLAlchemy<3,>=1.4 in /usr/local/lib/python3.10/dist-packages (from langchain) (2.0.30)\n",
            "Requirement already satisfied: aiohttp<4.0.0,>=3.8.3 in /usr/local/lib/python3.10/dist-packages (from langchain) (3.9.5)\n",
            "Requirement already satisfied: async-timeout<5.0.0,>=4.0.0 in /usr/local/lib/python3.10/dist-packages (from langchain) (4.0.3)\n",
            "Collecting langchain-core<0.3.0,>=0.2.0 (from langchain)\n",
            "  Downloading langchain_core-0.2.3-py3-none-any.whl (310 kB)\n",
            "\u001b[2K     \u001b[90m━━━━━━━━━━━━━━━━━━━━━━━━━━━━━━━━━━━━━━━━\u001b[0m \u001b[32m310.2/310.2 kB\u001b[0m \u001b[31m37.3 MB/s\u001b[0m eta \u001b[36m0:00:00\u001b[0m\n",
            "\u001b[?25hCollecting langchain-text-splitters<0.3.0,>=0.2.0 (from langchain)\n",
            "  Downloading langchain_text_splitters-0.2.0-py3-none-any.whl (23 kB)\n",
            "Collecting langsmith<0.2.0,>=0.1.17 (from langchain)\n",
            "  Downloading langsmith-0.1.65-py3-none-any.whl (124 kB)\n",
            "\u001b[2K     \u001b[90m━━━━━━━━━━━━━━━━━━━━━━━━━━━━━━━━━━━━━━━━\u001b[0m \u001b[32m124.3/124.3 kB\u001b[0m \u001b[31m16.7 MB/s\u001b[0m eta \u001b[36m0:00:00\u001b[0m\n",
            "\u001b[?25hRequirement already satisfied: numpy<2,>=1 in /usr/local/lib/python3.10/dist-packages (from langchain) (1.25.2)\n",
            "Requirement already satisfied: pydantic<3,>=1 in /usr/local/lib/python3.10/dist-packages (from langchain) (2.7.1)\n",
            "Requirement already satisfied: requests<3,>=2 in /usr/local/lib/python3.10/dist-packages (from langchain) (2.31.0)\n",
            "Requirement already satisfied: tenacity<9.0.0,>=8.1.0 in /usr/local/lib/python3.10/dist-packages (from langchain) (8.3.0)\n",
            "Collecting dataclasses-json<0.7,>=0.5.7 (from langchain-community)\n",
            "  Downloading dataclasses_json-0.6.6-py3-none-any.whl (28 kB)\n",
            "Requirement already satisfied: aiosignal>=1.1.2 in /usr/local/lib/python3.10/dist-packages (from aiohttp<4.0.0,>=3.8.3->langchain) (1.3.1)\n",
            "Requirement already satisfied: attrs>=17.3.0 in /usr/local/lib/python3.10/dist-packages (from aiohttp<4.0.0,>=3.8.3->langchain) (23.2.0)\n",
            "Requirement already satisfied: frozenlist>=1.1.1 in /usr/local/lib/python3.10/dist-packages (from aiohttp<4.0.0,>=3.8.3->langchain) (1.4.1)\n",
            "Requirement already satisfied: multidict<7.0,>=4.5 in /usr/local/lib/python3.10/dist-packages (from aiohttp<4.0.0,>=3.8.3->langchain) (6.0.5)\n",
            "Requirement already satisfied: yarl<2.0,>=1.0 in /usr/local/lib/python3.10/dist-packages (from aiohttp<4.0.0,>=3.8.3->langchain) (1.9.4)\n",
            "Collecting marshmallow<4.0.0,>=3.18.0 (from dataclasses-json<0.7,>=0.5.7->langchain-community)\n",
            "  Downloading marshmallow-3.21.2-py3-none-any.whl (49 kB)\n",
            "\u001b[2K     \u001b[90m━━━━━━━━━━━━━━━━━━━━━━━━━━━━━━━━━━━━━━━━\u001b[0m \u001b[32m49.3/49.3 kB\u001b[0m \u001b[31m7.8 MB/s\u001b[0m eta \u001b[36m0:00:00\u001b[0m\n",
            "\u001b[?25hCollecting typing-inspect<1,>=0.4.0 (from dataclasses-json<0.7,>=0.5.7->langchain-community)\n",
            "  Downloading typing_inspect-0.9.0-py3-none-any.whl (8.8 kB)\n",
            "Collecting jsonpatch<2.0,>=1.33 (from langchain-core<0.3.0,>=0.2.0->langchain)\n",
            "  Downloading jsonpatch-1.33-py2.py3-none-any.whl (12 kB)\n",
            "Collecting packaging<24.0,>=23.2 (from langchain-core<0.3.0,>=0.2.0->langchain)\n",
            "  Downloading packaging-23.2-py3-none-any.whl (53 kB)\n",
            "\u001b[2K     \u001b[90m━━━━━━━━━━━━━━━━━━━━━━━━━━━━━━━━━━━━━━━━\u001b[0m \u001b[32m53.0/53.0 kB\u001b[0m \u001b[31m8.6 MB/s\u001b[0m eta \u001b[36m0:00:00\u001b[0m\n",
            "\u001b[?25hCollecting orjson<4.0.0,>=3.9.14 (from langsmith<0.2.0,>=0.1.17->langchain)\n",
            "  Downloading orjson-3.10.3-cp310-cp310-manylinux_2_17_x86_64.manylinux2014_x86_64.whl (142 kB)\n",
            "\u001b[2K     \u001b[90m━━━━━━━━━━━━━━━━━━━━━━━━━━━━━━━━━━━━━━━━\u001b[0m \u001b[32m142.5/142.5 kB\u001b[0m \u001b[31m15.0 MB/s\u001b[0m eta \u001b[36m0:00:00\u001b[0m\n",
            "\u001b[?25hRequirement already satisfied: annotated-types>=0.4.0 in /usr/local/lib/python3.10/dist-packages (from pydantic<3,>=1->langchain) (0.7.0)\n",
            "Requirement already satisfied: pydantic-core==2.18.2 in /usr/local/lib/python3.10/dist-packages (from pydantic<3,>=1->langchain) (2.18.2)\n",
            "Requirement already satisfied: typing-extensions>=4.6.1 in /usr/local/lib/python3.10/dist-packages (from pydantic<3,>=1->langchain) (4.11.0)\n",
            "Requirement already satisfied: charset-normalizer<4,>=2 in /usr/local/lib/python3.10/dist-packages (from requests<3,>=2->langchain) (3.3.2)\n",
            "Requirement already satisfied: idna<4,>=2.5 in /usr/local/lib/python3.10/dist-packages (from requests<3,>=2->langchain) (3.7)\n",
            "Requirement already satisfied: urllib3<3,>=1.21.1 in /usr/local/lib/python3.10/dist-packages (from requests<3,>=2->langchain) (2.0.7)\n",
            "Requirement already satisfied: certifi>=2017.4.17 in /usr/local/lib/python3.10/dist-packages (from requests<3,>=2->langchain) (2024.2.2)\n",
            "Requirement already satisfied: greenlet!=0.4.17 in /usr/local/lib/python3.10/dist-packages (from SQLAlchemy<3,>=1.4->langchain) (3.0.3)\n",
            "Collecting jsonpointer>=1.9 (from jsonpatch<2.0,>=1.33->langchain-core<0.3.0,>=0.2.0->langchain)\n",
            "  Downloading jsonpointer-2.4-py2.py3-none-any.whl (7.8 kB)\n",
            "Collecting mypy-extensions>=0.3.0 (from typing-inspect<1,>=0.4.0->dataclasses-json<0.7,>=0.5.7->langchain-community)\n",
            "  Downloading mypy_extensions-1.0.0-py3-none-any.whl (4.7 kB)\n",
            "Installing collected packages: packaging, orjson, mypy-extensions, jsonpointer, jq, typing-inspect, marshmallow, jsonpatch, langsmith, dataclasses-json, langchain-core, langchain-text-splitters, langchain, langchain-community\n",
            "  Attempting uninstall: packaging\n",
            "    Found existing installation: packaging 24.0\n",
            "    Uninstalling packaging-24.0:\n",
            "      Successfully uninstalled packaging-24.0\n",
            "Successfully installed dataclasses-json-0.6.6 jq-1.7.0 jsonpatch-1.33 jsonpointer-2.4 langchain-0.2.1 langchain-community-0.2.1 langchain-core-0.2.3 langchain-text-splitters-0.2.0 langsmith-0.1.65 marshmallow-3.21.2 mypy-extensions-1.0.0 orjson-3.10.3 packaging-23.2 typing-inspect-0.9.0\n"
          ]
        }
      ]
    },
    {
      "cell_type": "markdown",
      "source": [
        "### loading the json using the loader"
      ],
      "metadata": {
        "id": "B3Oeyc_aEFgV"
      }
    },
    {
      "cell_type": "code",
      "source": [
        "from langchain_community.document_loaders import JSONLoader\n",
        "import json\n",
        "from pathlib import Path\n",
        "from pprint import pprint\n",
        "\n",
        "loader = JSONLoader(\n",
        "    file_path='content.json',\n",
        "    jq_schema='.[].content',\n",
        "    text_content=False)\n",
        "\n",
        "data = loader.load()\n"
      ],
      "metadata": {
        "id": "6WkPlVKLEAVH"
      },
      "execution_count": 17,
      "outputs": []
    },
    {
      "cell_type": "code",
      "source": [
        "pprint(data[0])"
      ],
      "metadata": {
        "colab": {
          "base_uri": "https://localhost:8080/"
        },
        "id": "0xqxNQF1EQEa",
        "outputId": "9297d677-fa01-4515-eec9-e178173637bb"
      },
      "execution_count": 27,
      "outputs": [
        {
          "output_type": "stream",
          "name": "stdout",
          "text": [
            "('I’ll be honest.\\n'\n",
            " 'I’m worried.\\n'\n",
            " 'I’ve gone deep into the AGI and post-labor-work rabbit hole.\\n'\n",
            " 'There’s been a few questions on my mind for the past month:\\n'\n",
            " 'What can humans do that machines can’t?\\n'\n",
            " 'What will the future of work look like?\\n'\n",
            " 'What jobs – if any – will persist over the next 20 years?\\n'\n",
            " 'What can we, as humans, do to secure an above-average future?\\n'\n",
            " 'With these problems at the forefront of my mind, I’ve found a few answers '\n",
            " 'that may bring you optimism and clarity as you enter the unknown.\\n'\n",
            " 'I want to focus on this point that many are worried about:\\n'\n",
            " 'We don’t know what to teach children because we don’t know what will be '\n",
            " 'relevant in 20 years.\\n'\n",
            " 'I was worried about this too until I came across a post by Devon Erikson on '\n",
            " 'X that shines light on the issue.\\n'\n",
            " 'I’ve been binging any podcast I can find of him and reading his new sci-fi '\n",
            " 'fiction book, Theft Of Fire. He is easily becoming one of my favorite '\n",
            " 'thinkers.\\n'\n",
            " 'I hope one day, once I’ve burned through his work, I can hold a high-level '\n",
            " 'conversation with him on a podcast to share the similarities and differences '\n",
            " 'between our worldviews. For now, I am the student.\\n'\n",
            " 'On to his points:\\n'\n",
            " 'Only slaves are expected to perform one task for their entire life.\\n'\n",
            " 'Our current education system reflects the education of slaves.\\n'\n",
            " 'They were career-specific skills like growing wheat, herding sheep, and '\n",
            " 'riding a horse.\\n'\n",
            " 'Today, we are taught to be useful workers. We are taught to obey the '\n",
            " 'authority. We are conditioned to get good grades out of fear of punishment.\\n'\n",
            " 'A free man is expected to act on his interests and do many things throughout '\n",
            " 'his life.\\n'\n",
            " 'If you don’t create a purpose, you will be assigned one.\\n'\n",
            " 'A purpose is a goal. Most people don’t choose their own goals.\\n'\n",
            " 'A goal implies knowledge and skills that must be learned to solve problems '\n",
            " 'that prevent you from achieving the goal.\\n'\n",
            " 'If you don’t choose your own goal, you do not choose what you learn or what '\n",
            " 'problems you solve. Your destiny is decided for you because the only '\n",
            " 'potential you know is the one you were assigned.\\n'\n",
            " 'The difference between the two is how to live, how to think, and how to '\n",
            " 'learn.\\n'\n",
            " 'True education, not a clone-producing machine we call public school, is an '\n",
            " 'orientation toward how to live and thrive without being dependent on '\n",
            " 'another.\\n'\n",
            " 'True education does not only teach career skills that produce results by '\n",
            " 'performing specific tasks, but how to think and learn so they could adapt to '\n",
            " 'any situation.\\n'\n",
            " 'Stop worrying about what career skills AI will make obsolete.\\n'\n",
            " 'Worry about whether you are training (or being trained) to make '\n",
            " 'ideal-future-aligned decisions, be open-minded and perceptive, and be '\n",
            " 'self-motivated.\\n'\n",
            " 'Everyone is creative.\\n'\n",
            " 'Creativity is about achieving any goal with the knowledge and skill '\n",
            " 'available to you, not fancy art or designs.\\n'\n",
            " 'In other words, you need to learn how to set self-generated goals, utilize '\n",
            " 'the internet, mentors, and the abundance of information you have access to '\n",
            " 'to educate yourself.\\n'\n",
            " 'Then, you need to embrace trial and error, self-reflect, and experiment to '\n",
            " 'create your own path.\\n'\n",
            " 'Creativity gives you the power to do whatever you want in life.\\n'\n",
            " 'Those who don’t realize this gift are doomed to the assignments of others.\\n'\n",
            " 'The Irreplaceable Individual\\n'\n",
            " 'It is impossible to know what the future will hold.\\n'\n",
            " 'All we know is that there will be a way of life that leads to the most '\n",
            " 'satisfaction.\\n'\n",
            " 'While some aspects of this ideal lifestyle will be unique, like the '\n",
            " 'interests you choose to pursue, the overarching principles of the good life '\n",
            " 'remain immutable, like what allows you to pursue those interests as a '\n",
            " 'sovereign individual.\\n'\n",
            " 'To discover what these are, we must look at what is not taught in schools.\\n'\n",
            " 'If schools train you to be a modern slave that performs one task in one '\n",
            " 'career for the entirety of your life, what is the knowledge and skill that '\n",
            " 'sovereign individuals are taught – or teach themselves?\\n'\n",
            " '1) The Future-Proof Skill Stack\\n'\n",
            " 'In Eriksen’s opinion, the seven liberal arts (or “liberating arts,” not to '\n",
            " 'be confused with the ideological monstrosity found in a specific department '\n",
            " 'of formal education taught by those who are not liberated themselves) are, '\n",
            " 'quote:\\n'\n",
            " 'Logic: how to derive truth from known facts\\n'\n",
            " 'Statistics: how to understand the implications of data\\n'\n",
            " 'Rhetoric: how to persuade, and spot persuasion tactics\\n'\n",
            " 'Research: how to gather information on an unknown subject\\n'\n",
            " '(Practical) Psychology: how to discern and understand the true motives of '\n",
            " 'others\\n'\n",
            " 'Investment: how to manage and grow existing assets\\n'\n",
            " 'Agency: how to make decisions about what course to pursue, and proactively '\n",
            " 'take action to pursue it.\\n'\n",
            " 'I would encourage you to hold these in your mind while pushing into the '\n",
            " 'unknown.\\n'\n",
            " 'If you prepare yourself with a future-proof mind, what technical skills will '\n",
            " 'be lucrative or useful in the far future are irrelevant because you can '\n",
            " 'adapt as necessary.\\n'\n",
            " 'To learn the liberating arts, these are the skills I learned:\\n'\n",
            " 'Marketing & sales – if you don’t know how to attract and persuade, you will '\n",
            " 'never get what you want, and your only option will be for an employer (or '\n",
            " 'the government) to give it to you. (Rhetoric, psychology)\\n'\n",
            " 'Writing & thinking – the ability to communicate the value in your unique '\n",
            " 'mind. The foundation of getting in front of other people. (Logic, research)\\n'\n",
            " 'Entrepreneurship – the process of taking my future into my own hands, '\n",
            " 'hunting for my survival, and building products that I want to see in the '\n",
            " 'world (that others care about). (Statistics, agency, investment)\\n'\n",
            " 'Some may say things like entrepreneurship aren’t a “skill,” but I would '\n",
            " 'argue that any mental process that becomes more efficient with time is a '\n",
            " 'skill.\\n'\n",
            " 'Everything is a skill, but most people don’t treat their life as a '\n",
            " 'practice.\\n'\n",
            " 'Nobody can tell you how they write, think, market, and sell. They can only '\n",
            " 'tell you how they do it.\\n'\n",
            " 'Meaning that to learn these skills, you must embrace a self-experimentation '\n",
            " 'mindset.\\n'\n",
            " 'Your job is to:\\n'\n",
            " 'Research processes that others have found success with. Thankfully, you can '\n",
            " 'find these with a simple search.\\n'\n",
            " 'Experiment with various techniques. Implement the processes you learn and '\n",
            " 'attempt to get results.\\n'\n",
            " 'Identify patterns and principles. Note the similarities between each and '\n",
            " 'double down on them.\\n'\n",
            " 'Create your own process. Tailor what you learn to your unique lifestyle and '\n",
            " 'situation.\\n'\n",
            " 'Contribute to true education by passing it down. Give people education that '\n",
            " 'can’t be taught in schools with a fundamental grounding in critical '\n",
            " 'thinking.\\n'\n",
            " 'With entrepreneurship as your vessel, you set the scene for true education '\n",
            " 'and sovereignty.\\n'\n",
            " 'With writing and thinking, you continuously create, test, and iterate on the '\n",
            " 'value you have to offer.\\n'\n",
            " 'You are required to learn practical psychology – marketing and sales – to '\n",
            " 'understand the minds of yourself and your customers.\\n'\n",
            " 'You then persuade, not force or deceive, to inspire people to care about the '\n",
            " 'value you have to offer.\\n'\n",
            " 'The future-proof skills are the foundation of Kortex University. My school '\n",
            " 'for becoming a synthesizer in 90-120 days.\\n'\n",
            " '2) Technical Know-How\\n'\n",
            " 'With the foundation of a future-proof skill stack, the next step is adapting '\n",
            " 'to the times with technical skills.\\n'\n",
            " 'In the digital renaissance, this means:\\n'\n",
            " 'Social media – building a name for yourself as your storefront for the value '\n",
            " 'you create. The command center for your business.\\n'\n",
            " 'Content – writing or video to educate, entertain, and inspire people to see '\n",
            " 'your value.\\n'\n",
            " 'Email marketing – newsletters or sequences to nurture the audience you '\n",
            " 'acquire.\\n'\n",
            " 'Visual design – illustrating the vibe of your brand to spark emotion in your '\n",
            " 'viewers.\\n'\n",
            " 'Funnel building – creating landing pages, websites, and fueling them with '\n",
            " 'other technical skills like content and email.\\n'\n",
            " 'The requirements to learn these skills are bound to change as artificial '\n",
            " 'intelligence shakes the industry. They won’t go away any time soon, but the '\n",
            " 'general competition will increase due to the ease in acquiring these skills. '\n",
            " 'Few people will learn the future-proof skills above, those are what will '\n",
            " 'secure your future.\\n'\n",
            " 'These technical skills are the current vessel for your entrepreneurial '\n",
            " 'ventures.\\n'\n",
            " '3) Personal Interests\\n'\n",
            " 'Now the questions you’re asking are:\\n'\n",
            " 'What do I write about?\\n'\n",
            " 'What do I market and sell?\\n'\n",
            " 'What do I email, design, or leverage technical skills with?\\n'\n",
            " 'The interests you can’t help but tell others about.\\n'\n",
            " 'The books you can’t pull yourself away from.\\n'\n",
            " 'The ideas that flood your search history.\\n'\n",
            " 'The projects you dream of building but can’t seem to find the time to.\\n'\n",
            " 'You don’t “find” a profitable niche. You create a profitable niche through '\n",
            " 'persuasion.\\n'\n",
            " 'Nobody can tell you what niche to go into, they can only tell you the one '\n",
            " 'they went into.\\n'\n",
            " 'If you understood the future-proof skills, and therefore human nature, you '\n",
            " 'would understand that you can control the perception of your interests.\\n'\n",
            " 'Interest is generated. Interest is programmed. You are interested in '\n",
            " 'specific things because of how you were raised and the information you were '\n",
            " 'exposed to.\\n'\n",
            " 'You are interested in them for a reason. That means others can become '\n",
            " 'interested in them with well-placed writing on social media. This has '\n",
            " 'happened to you before. Go scroll the timeline and tell me something doesn’t '\n",
            " 'persuade you to change your behavior.\\n'\n",
            " 'You spend time, attention, and money on your interests. That means others '\n",
            " 'will spend those same resources on you if you are valuable enough.\\n'\n",
            " 'Free people don’t choose a niche, they create one.\\n'\n",
            " 'The Digital Renaissance\\n'\n",
            " 'Most people don’t try to become the top 5% in any skill because they don’t '\n",
            " 'realize that the 95% is comprised of people who put 0% effort outside of '\n",
            " 'anything they were told to do by their parents or society.\\n'\n",
            " '30-60 minutes a day for 6-12 months puts you ahead of almost everyone.\\n'\n",
            " 'Even that is too much to ask of most people.\\n'\n",
            " 'Thanks to the decentralized education system being built in front of our '\n",
            " 'eyes (creators on social media teaching paths they’ve gotten results in) you '\n",
            " 'can quickly learn relevant skills that allow you to adapt to the changing '\n",
            " 'career landscape.\\n'\n",
            " 'In my eyes, it is silly to bank your future on education from those who are '\n",
            " 'employed to be teachers.\\n'\n",
            " 'I am not talking about general education. That is useful for getting people '\n",
            " 'on the same page. I am talking about further education, when you are at the '\n",
            " 'pivotal moment where you must choose what interest you want to pursue.\\n'\n",
            " 'If the goal is to be in control of your future, it is wise to avoid '\n",
            " 'education by those teaching how to be free but aren’t free themselves.\\n'\n",
            " 'STEM education makes sense because it teaches hard skills, but an education '\n",
            " 'in the liberal arts required to be free is learned better by those who have '\n",
            " 'done what you are interested in doing.\\n'\n",
            " 'Posts, podcasts, videos, courses, and coaching.\\n'\n",
            " 'Use them to study every skill or interest we’ve discussed in this letter.\\n'\n",
            " 'Nobody is going to give you the time. You must take it. Set aside 30-60 '\n",
            " 'minutes in a non-distracting block of your day and build the habit. It will '\n",
            " 'be difficult at the start as with anything new. Don’t expect otherwise.\\n'\n",
            " 'The Domain Of Mastery\\n'\n",
            " 'Mastery is a blend of creative and specific work.\\n'\n",
            " 'Mastery cannot be trained, it must be practiced.\\n'\n",
            " 'You don’t succeed by being smarter.\\n'\n",
            " 'You don’t succeed by working harder.\\n'\n",
            " 'You succeed when you possess specific domain-relevant knowledge with a '\n",
            " 'creative vessel for distribution.\\n'\n",
            " 'I can be smart, with an IQ of 175, but if a bug occurs in a complex code '\n",
            " 'base, how will being smart help me fix that? I need to know a bunch of very '\n",
            " 'specific things about the code base.\\n'\n",
            " 'Now, I can have specific knowledge of that domain, but if I am not one '\n",
            " 'influencing the vision of that code base, I am not free, and I can be '\n",
            " 'replaced.\\n'\n",
            " 'It is difficult to replace someone who is highly equipped with specific '\n",
            " 'knowledge, but it can still happen. And if that individual is replaced, do '\n",
            " 'they have the creativity to make that knowledge work for them?\\n'\n",
            " 'Your domain of mastery contains the skills and interests listed above.\\n'\n",
            " 'Entrepreneurship is your vessel – so you are in full control of your '\n",
            " 'future.\\n'\n",
            " 'Marketing and sales are your message – so you can inspire people to care '\n",
            " 'about what you do.\\n'\n",
            " 'Writing and thinking are your medium – so you can distribute your message in '\n",
            " 'public.\\n'\n",
            " 'Technical know-how is the “how” – so you can succeed in the current market '\n",
            " 'landscape.\\n'\n",
            " 'Personal interests are the “what” – so you have a craft to pour your heart '\n",
            " 'and soul into.\\n'\n",
            " 'Your ideal future is the “why” – so you solve a problem that you have '\n",
            " 'experience with.\\n'\n",
            " 'An ideal future is born from adversity.\\n'\n",
            " 'If you listen to the stories of the most successful entrepreneurs (excluding '\n",
            " 'cases of unconscious competence), you will discover a common theme.\\n'\n",
            " 'They built a product for one of three reasons:\\n'\n",
            " 'To make something that helped them better.\\n'\n",
            " 'To solve a problem in their life.\\n'\n",
            " 'To build what they wanted to see in the world.\\n'\n",
            " 'Or, even better, a combination of them all.\\n'\n",
            " 'One suffered from eczema, experimented with all of the products they could '\n",
            " 'on the market, and couldn’t find one that suited them.\\n'\n",
            " 'The best they could find was a boring, scentless bar of soap.\\n'\n",
            " 'So, they obsessed over botanicals and horticulture. Studied it like their '\n",
            " 'life depended on it – because it did – and created a soap line that smelled '\n",
            " 'good, looked good, and didn’t irritate their skin.\\n'\n",
            " 'I, as another example, had trouble with consistent writing quality to fuel '\n",
            " 'my business. Nobody seemed to understand that there was more to writing than '\n",
            " 'just writing.\\n'\n",
            " 'Since it was the foundation of my business success, and with having a '\n",
            " 'plethora of specific knowledge in that domain, I experimented with other’s '\n",
            " 'processes until I was able to create one that suited my unique goals.\\n'\n",
            " 'That is how 2 Hour Writer was born. My hyper-successful course.\\n'\n",
            " 'It may not work for some, but for others, it is the course that changed '\n",
            " 'everything and shaped a huge portion of the creator space as we know it – '\n",
            " 'including many spinoff products with other processes you can try.\\n'\n",
            " 'Notice the Value Equation from last week coming into play. It starts with a '\n",
            " 'problem, reveals a goal, and sets a potential process to be created.\\n'\n",
            " 'To wrap this up, technology only continues to advance.\\n'\n",
            " 'Being scared of it is a great way to ruin your future.\\n'\n",
            " 'The wise decision is to use it. Dissect it. Understand it.\\n'\n",
            " 'Allow it to help you acquire skills faster and build your future in record '\n",
            " 'time.\\n'\n",
            " 'I hope you enjoyed this letter.\\n'\n",
            " 'It was one of my favorites to write so far.\\n'\n",
            " 'Dan')\n"
          ]
        }
      ]
    },
    {
      "cell_type": "markdown",
      "source": [
        "now, join all of the content into one big file, so that we can chunk it later and perform rag\n"
      ],
      "metadata": {
        "id": "IzThf8nXGx97"
      }
    },
    {
      "cell_type": "markdown",
      "source": [],
      "metadata": {
        "id": "wVjDdSIwIY6n"
      }
    },
    {
      "cell_type": "code",
      "source": [
        "# !pip install tqdm  ---> ## incase it throws module not found error\n",
        "\n",
        "from tqdm import tqdm\n",
        "\n",
        "joined = \"\"\n",
        "\n",
        "for idx,doc in tqdm(enumerate(data)):\n",
        "    joined += f\"{idx}\" + \"\\n\\n\"  + doc.page_content + \"$$$\"\n",
        "\n"
      ],
      "metadata": {
        "colab": {
          "base_uri": "https://localhost:8080/"
        },
        "id": "EgdBv6Z4EeKg",
        "outputId": "e43dc2c0-b79a-4158-a682-a361cf216805"
      },
      "execution_count": 30,
      "outputs": [
        {
          "output_type": "stream",
          "name": "stderr",
          "text": [
            "110it [00:00, 13603.82it/s]\n"
          ]
        }
      ]
    },
    {
      "cell_type": "code",
      "source": [
        "## doing fun calculating how much words are there in the file (averagely)\n",
        "\n",
        "pprint(len(joined)/5)\n"
      ],
      "metadata": {
        "colab": {
          "base_uri": "https://localhost:8080/"
        },
        "id": "K3Z7gpe3IdAJ",
        "outputId": "1230e123-9351-481b-f2c0-3d7cd7d5bef7"
      },
      "execution_count": 37,
      "outputs": [
        {
          "output_type": "stream",
          "name": "stdout",
          "text": [
            "341853.4\n"
          ]
        }
      ]
    },
    {
      "cell_type": "code",
      "source": [
        "# now we are splitting based on the combination of characters ---> \\n\\n\\n\\n\n",
        "!pip install -qU langchain-text-splitters"
      ],
      "metadata": {
        "id": "9nVOTFySIo-z"
      },
      "execution_count": 39,
      "outputs": []
    },
    {
      "cell_type": "code",
      "source": [
        "from langchain_text_splitters import RecursiveCharacterTextSplitter\n",
        "\n",
        "text_splitter = RecursiveCharacterTextSplitter(\n",
        "    # Set a really small chunk size, just to show.\n",
        "    chunk_size=12000,\n",
        "    chunk_overlap=600,\n",
        "    length_function=len,\n",
        "    is_separator_regex=False,\n",
        ")\n",
        "\n",
        "texts = text_splitter.create_documents([joined])\n"
      ],
      "metadata": {
        "id": "yTiuRgSsJoXF"
      },
      "execution_count": 51,
      "outputs": []
    },
    {
      "cell_type": "code",
      "source": [],
      "metadata": {
        "colab": {
          "base_uri": "https://localhost:8080/"
        },
        "id": "wr0_I51YJ_Kv",
        "outputId": "e36852a9-4a86-4a8c-d493-43cfde5f08d9"
      },
      "execution_count": 59,
      "outputs": [
        {
          "output_type": "execute_result",
          "data": {
            "text/plain": [
              "Document(page_content='This is the start of the Digital Writer series.\\nOver the coming weeks (with some breaks for a few harsh truths and self-improvement letters) we will dive deep into how to become a profitable writer while talking about your interests.\\nLet’s begin.\\nI’ve always been a creative at heart.\\nI loved the thought of working from my laptop, living anywhere in the world, and not having to worry about money.\\nNaturally, I studied things like graphic design, photography, and film.\\nThose were valuable skills to learn, but they never really got me anywhere.\\nI knew that I had to learn something that was valued by the market more, but I didn’t want to give up my creative edge.\\nThat’s when I took a web development class in college.\\nI became obsessed.\\nThe promises of a high-paying job without a degree and the infinite resources I could use to teach myself to code were enticing.\\nAnd I didn’t have to let go of my creativity if I did front-end design.\\nCreativity paired with coding seemed more valuable than something like graphic design alone, but only to the job market (from my level of awareness at the time).\\nI have always wanted to do my own thing.\\nGetting a job was the bane of my existence.\\nIt wasn’t hard to observe society and see that most people were overweight and unhappy. The common theme was that they all had their precious resource, time, sucked away from them by a job that worked them to death.\\nLong story short, I never was able to monetize my creativity.\\nIt’s not because I wasn’t skilled enough, it’s because I didn’t stack other skills that would allow me to make money. I wasn’t skilled in the right things that would allow me to monetize my main skill. Another loss for “focus on one thing.”\\nI’ll talk about my full story in one of the next letters, but for now, just know that it didn’t work out.\\nI had to swallow my pride and get a job.\\nLuckily, I was able to land the first web design job I applied for because I took a year to teach myself to code (and had design experience before that).\\nLesson:\\nYou don’t need to go to school to get a high-paying job.\\nThat job can be used as a launchpad for building your own thing.\\nBefore we start, The Art Of Focus Keepsake Box is available for preorder:\\nThe Keepsake Hardcover – we are only printing 2000 copies.\\nThe digital download of the book so you can be the first to read.\\nThe audiobook version when it is recorded and uploaded.\\nThe FOCI Planner to deconstruct your ideal future into priority tasks.\\nThe FOCI Coin to remember to act with intention.\\nThe Digital Transformation Center with 12 hours of modern entrepreneurship trainings.\\nThe Private Community for updates, discussion, and networking.\\nA private invitation to an in-person event in Phoenix, AZ next year.\\nThe price increases twice leading up to the release date.\\nHow I Made Millions As A Digital Writer\\nI worked at a web design agency for a year.\\nThis was a blessing, because it showed me the exact pieces I was missing in my freelance web design business.\\nThe agency had a marketing, sales, and operations department.\\nMarketing and sales generated and closed leads.\\nOperations handed them off to the designers (me).\\nI built their website and handed it off to them.\\nIt made sense, so I started studying skills like copywriting, sales, direct response marketing, and all of the other skills that people tell you to learn.\\nIn my free time, I would try everything under the sun to land clients.\\nCold email.\\nCold calls.\\nCold DMs.\\nFacebook Group networking.\\nPaid Facebook and Google ads.\\nWalking into local businesses and talking to the manager.\\nWriting down the phone numbers of services businesses from their vehicle graphics (like pest control).\\nI started landing a few clients, but not nearly enough as I wanted. Don’t get me wrong, I replaced my income and quit my job within my year at the web design agency.\\nBut I didn’t just want to replace my income.\\nI wanted to make millions… because who doesn’t?\\nI was well off, making close to $100,000 a year – mostly from referrals after a lot of manual effort – and was able to quit my job.\\nA few things happened at this point.\\nAnd they could only happen at this point, because my mind wouldn’t understand them without my prior experience and failures.\\n1) I began to understand the power of social media.\\nWhy in the world was I doing all of this manual work to land clients?\\nWhy didn’t I realize that people posting content and building a following had unlimited clients at their fingertips (if they understood marketing and sales)?\\nIf I could build an audience, that would save me 10-20 hours a week generating leads for my freelance services.\\nAnd if I built a large enough following, I could pivot out of client work. That would save me even more time because I could monetize digital or physical products.\\nYou can start to see where my 4-Hour Workday philosophy comes from.\\n2) I had the experience to grow on X.\\nCenturies ago, there was a social media app called Twitter.\\nI never really cared for it.\\nBut for some reason, I started using it more and more.\\nI noticed people talking about everything I liked.\\nSelf-improvement, mindset, philosophy, web design, business, marketing, and more. Often from the same accounts. They didn’t seem to limit the topics they talked about, because it was obvious that they all overlapped (similar to how this newsletter can be categorized as any one of those topics). They told you to “choose a niche” but didn’t have one themselves. Their products and services were niched down, not their personal brand.\\nIf they were generating traffic with their content and had the successful business they said they did… why couldn’t I do the same?\\nI started emulating their content structure and posting the ideas in my head.\\nRemember, I had prior copywriting and direct response marketing knowledge.\\nI knew what was necessary to write a post that captured attention and generated enough interest to follow me.\\nIn my first year, I gained around 10,000 followers.\\nIn my second year, that jumped to 50,000.\\nIn my third year, another jump to 100,000.\\nThen, I used my validated ideas to post to other platforms like Instagram, LinkedIn, and YouTube. I knew they would get engagement because I had so much data from writing on Twitter.\\nToday, 4 years later, I have around 2,800,000 followers across all platforms.\\nTalk about exponential growth and how consistency is king.\\nThere is a lot more to this social media growth thing. I’ll talk about that in a letter soon called How To Actually Grow On Social Media (What They Don’t Tell You). For now you can read this letter on networking.\\n3) Everything pointed to writing.\\nWriting on Twitter made me realize one thing.\\nI wasn’t just writing on Twitter.\\nI was writing emails, newsletters, landing pages, promotions, video scripts, direct messages, course curriculums, product material… everything.\\nIt wasn’t too long until I just considered myself a writer.\\nThat’s all I did every single morning.\\nThat was the driver of all growth in my business.\\nMy ability to capture attention, create value, and impact my readers was all due to writing.\\nThis is how 2 Hour Writer was birthed. That’s a course where I teach my entire writing ecosystem. Because everything in business – no matter what you do – starts with writing.\\nMost writers want to sell their writing, and they can with something like a paid blog, newsletter, or community, but that is limiting.\\nWriting is both a traffic generation mechanism and the means to create an information product.\\nWhen you know how to write, market, and sell, you can earn an income writing about whatever you want.\\n4) My income grew with my readership.\\nA few years ago I read a tweet that said you can make $0.50-$1 per follower per month (with your own product or service of course, not by relying on platform monetization or Adsense).\\nThis held true for me up until a point.\\nFrom years 1-3 I made about $1 per follower per month.\\nSo, $10,000 then $50,000 then $100,000.\\nI made $800,000 in my third year.\\nThis past year I’ve passed my follower count in income, around $3.1 million so far.\\nThere are a lot of technical details here, but one thing holds true:\\nIf you slowly build a decent readership, launch a new product, and get 80% of things right, I find it hard to believe that you couldn’t make a million dollars.\\nAt this point, if you stick it out, the path should be blatantly obvious to you.\\nThe main trap I see is people playing short-term money games. Blasting their audience with promotions on a crappy product and never improving what they offer.\\nThe Principles Of Monetizing Your Writing\\nI don’t want to give you hacks and tactics.\\nThis is a long-term game.\\nThe sooner you accept that the sooner you will get results, because the quickest fix is the longest path.\\nInstead, I want to give you principles to focus on.\\nThese will be the main drivers of monetizing your writing.\\n1) Distribution – Choosing A Writing Platform\\nDistribution is how you bridge product and people.\\nFor writers, social media is how you are going to do that.\\nYou don’t need to start on a writing platform, but why wouldn’t you?\\nYou don’t need to post pictures of your body.\\nYou can prioritize learning and idea generation.\\nYou don’t need to design graphics or edit videos.\\nIt is a peaceful existence unless you want to expand in the future.\\nI recommend X as your starting point because you can control growth with strategies we will talk about later.\\nMedium, blog sites, and newsletters take longer to grow.\\nIn my eyes, it’s easier to build an X following and transfer your audience to long-form writing down the road.\\n2) Offer – How You Monetize An Audience\\nBeginners tend to see YouTubers pulling in big numbers from ad revenue and think that’s the best way to monetize.\\nEven now with X monetization being a thing… I’m seeing this more and more.\\nThis is arguably the stupidest way to think.\\nYou started doing this because you want more autonomy in your life.\\nDon’t be a slave to the algorithm.\\nYou have to create a product or service.\\nHere’s what I would do:\\nStart a freelance business. You won’t have a large following at first. So you do more manual work to land writing clients for a higher price than something like a course. This allows you to make an income. (You can sell social media content, copywriting, emails, etc. Just don’t offer plain old “writing.”)\\nWeen off of manual outreach. As your audience grows you can leverage that for landing clients. This frees up time to start creating a product.\\nTurn your freelance service into a product. You can keep freelancing, but having a digital product, course, or physical product allows you to earn without manual labor.\\nDo whatever you want. At this point, you should have the mental and financial resources to build and monetize whatever you want. Enjoy the freedom that a proper skill stack and experience provides.\\nOne last thing, most people create a product and see zero results. I would recommend enrolling in Digital Economics for my monetization systems, or reading my previous letter on Value Creation.\\n3) Leverage & Scalability\\nIf you don’t prioritize leverage and scalability, you won’t be able to make $1 million a year (at least without hating your life).\\nThe Internet allows businesses to scale without hiring an insane amount of employees.\\nDigital tools, software, and automation allow you to do what used to take 10 employees by yourself.\\nAs you are writing and building, you have to continue to evolve your products to take up less of your time.\\nThe obvious and priority thing to do is turn your service (like freelancing) into a digital product (like a course teaching the same thing to a more beginner-level audience).\\nIn my case, I was a freelance web designer.\\nSo, to free up more time, I created 2 products in my first year.\\nOne taught how to create websites and landing pages.\\nThe other taught my manual methods for landing freelance clients.\\nIn my second year, I stopped freelance web design as a whole.')"
            ]
          },
          "metadata": {},
          "execution_count": 59
        }
      ]
    },
    {
      "cell_type": "code",
      "source": [],
      "metadata": {
        "id": "C6YfxBF0KG4J"
      },
      "execution_count": null,
      "outputs": []
    }
  ]
}